{
 "cells": [
  {
   "cell_type": "code",
   "execution_count": null,
   "id": "a5e2c6a8-c35b-411f-9584-0398fdaea05e",
   "metadata": {},
   "outputs": [],
   "source": [
    "import pandas as pd\n",
    "import matplotlib.pyplot as plt\n",
    "import seaborn as sns\n",
    "import numpy as np\n",
    "from scipy.stats import chi2_contingency\n",
    "from scipy.stats import pearsonr\n",
    "\n",
    "%matplotlib inline"
   ]
  },
  {
   "cell_type": "code",
   "execution_count": null,
   "id": "4b34bf76-b3c7-42eb-9a07-1cf16927e815",
   "metadata": {},
   "outputs": [],
   "source": [
    "df_as = pd.read_csv(\"/Users/merryxmm7/Documents/GitHub/lab-eda-univariate/amz_uk_price_prediction_dataset.csv\")"
   ]
  },
  {
   "cell_type": "code",
   "execution_count": null,
   "id": "f8fc14a0-552a-411e-850b-a687c41e5154",
   "metadata": {},
   "outputs": [],
   "source": [
    "df_as"
   ]
  },
  {
   "cell_type": "code",
   "execution_count": null,
   "id": "7dca2184-1dec-43ee-b795-76b664dd2ad4",
   "metadata": {},
   "outputs": [],
   "source": [
    "#1 Crosstab Analysis between category and isBestSeller\n",
    "# here we see the number of occurances of the best seller for each category\n",
    "crosstab_result = pd.crosstab(df_as['category'], df_as['isBestSeller'])\n",
    "# Sorting by the sum of values in each row \n",
    "crosstab_result_sorted = crosstab_result.loc[crosstab_result.sum(axis=1).sort_values(ascending=False).index]\n"
   ]
  },
  {
   "cell_type": "code",
   "execution_count": null,
   "id": "268866b9-08aa-4a0e-8de9-afa01ab743cd",
   "metadata": {},
   "outputs": [],
   "source": [
    "top_5_categories.plot(kind='bar', stacked=True, figsize=(10, 6)).legend(title='Best-Seller Status'); plt.title('Top 5 Categories and Best-Seller Status'); plt.xlabel('Categories'); plt.ylabel('Proportion'); plt.xticks(rotation=45); plt.tight_layout(); plt.show()\n"
   ]
  },
  {
   "cell_type": "code",
   "execution_count": null,
   "id": "aa661a6e-ff20-4a32-9426-bd4c9f80b9e2",
   "metadata": {},
   "outputs": [],
   "source": [
    "# Now we want to see the proportions so that qe can come to a conclusion and say if there are some categories where being \n",
    "# best seller is most prevalent \n",
    "# Calculate the row-wise sum\n",
    "row_sums = crosstab_result.sum(axis=1)\n",
    "\n",
    "# Divide each value in the crosstab result by the row sum to get proportions\n",
    "proportions = crosstab_result.div(row_sums, axis=0)\n",
    "sorted_proportions = proportions.sort_values(by=True, ascending=False)\n",
    "sorted_proportions\n",
    "# Grocery have the most best sellers in proportion to their sales"
   ]
  },
  {
   "cell_type": "code",
   "execution_count": null,
   "id": "9184c411-d3e1-4f54-aca9-0af124c8e99c",
   "metadata": {},
   "outputs": [],
   "source": [
    "#2. Statistical tests\n",
    "# Chi test\n",
    "from scipy.stats import chi2_contingency\n",
    "chi2_statistic, chi2_p_value, _, _ = chi2_contingency(crosstab_result)\n",
    "\n",
    "chi2_statistic, chi2_p_value"
   ]
  },
  {
   "cell_type": "code",
   "execution_count": null,
   "id": "df6cd5f4-9659-49fa-876d-ef56b9b5bc72",
   "metadata": {},
   "outputs": [],
   "source": [
    "# Since our p value is 0, the association between category and bestseller is statistical significant\n",
    "# Therefore we reject the null-hypothesis and cocnlude that the categories are not independent of whether an item is a best seller or no"
   ]
  },
  {
   "cell_type": "code",
   "execution_count": null,
   "id": "4478820f-3aef-4069-b043-f835836baddb",
   "metadata": {},
   "outputs": [],
   "source": [
    "#2.1 Cramers V\n",
    "from scipy.stats.contingency import association\n",
    "\n",
    "# Computing the association between variables in 'crosstab_result' using the \"cramer\" method\n",
    "association(crosstab_result, method=\"cramer\")\n",
    "# we have a weak association but still stat significant between categories and best sellers"
   ]
  },
  {
   "cell_type": "code",
   "execution_count": null,
   "id": "1a99690a-74e3-45db-957b-0ce20af7b1a2",
   "metadata": {},
   "outputs": [],
   "source": [
    "#3. Visualisations\n",
    "top_5 = crosstab_result_sorted.head(5)\n",
    "top_5.plot(kind=\"bar\", stacked=True)"
   ]
  },
  {
   "cell_type": "code",
   "execution_count": null,
   "id": "aae057ea-0e86-4a34-8ac1-0a46673e7417",
   "metadata": {},
   "outputs": [],
   "source": [
    "# Part 2\n",
    "# 2.0 Preliminary Step: Remove outliers in product prices\n",
    "def tukeys_test_outliers(data):\n",
    "    Q1 = data.quantile(0.25)\n",
    "    Q3 = data.quantile(0.75)\n",
    "    IQR = Q3 - Q1\n",
    "    \n",
    "    # Define bounds for the outliers\n",
    "    lower_bound = Q1 - 1.5 * IQR\n",
    "    upper_bound = Q3 + 1.5 * IQR\n",
    "    \n",
    "    # Identify the outliers\n",
    "    outliers = data[(data > lower_bound) | (data < upper_bound)]\n",
    "    \n",
    "    return outliers"
   ]
  },
  {
   "cell_type": "code",
   "execution_count": null,
   "id": "190350a5-86f2-4b7d-a43c-a1c56c1aa419",
   "metadata": {},
   "outputs": [],
   "source": [
    "df_prices = df_as[\"price\"]\n",
    "outliers = tukeys_test_outliers(df_prices)\n",
    "outliers"
   ]
  },
  {
   "cell_type": "code",
   "execution_count": null,
   "id": "ca279745-ef05-4f54-bf77-4a76930e22be",
   "metadata": {},
   "outputs": [],
   "source": [
    "#violin plot\n",
    "top_5_categories = df_as.groupby('category')['price'].median().nlargest(20).index\n",
    "sns.violinplot(data=df_as[df_as['category'].isin(df_as.groupby('category')['price'].median().nlargest(5).index)], x='category', y='price', palette=\"coolwarm\")\n"
   ]
  },
  {
   "cell_type": "code",
   "execution_count": null,
   "id": "e7bd3d27-2999-478c-b42f-87ed30731aea",
   "metadata": {},
   "outputs": [],
   "source": [
    "category_counts = df_as['category'].value_counts()\n",
    "top_20_categories = category_counts.nlargest(20).index\n",
    "df_top_20_categories = df_as[df_as['category'].isin(top_20_categories)]\n",
    "sns.violinplot(data=df_top_20_categories, x='category', y='price', palette=\"coolwarm\"); plt.title('Violin Plot of Price Distribution for Top 20 Categories'); plt.xlabel('Category'); plt.ylabel('Price'); plt.xticks(rotation=90); plt.show()\n"
   ]
  },
  {
   "cell_type": "code",
   "execution_count": null,
   "id": "233070c7-314c-4bf9-879b-55b355b126b1",
   "metadata": {},
   "outputs": [],
   "source": [
    "category_counts = df_as['category'].value_counts()\n",
    "\n",
    "# Select the top 20 categories based on count\n",
    "top_20_categories = category_counts.nlargest(10).index\n",
    "\n",
    "# Filter the DataFrame to include only products from the top 20 categories\n",
    "df_top_20_categories = df_as[df_as['category'].isin(top_20_categories)]\n"
   ]
  },
  {
   "cell_type": "code",
   "execution_count": null,
   "id": "2a46bdc4-1d8b-4397-8712-1afc6b0001b9",
   "metadata": {},
   "outputs": [],
   "source": [
    "sns.barplot(data=df_top_20_categories, x='category', y='price', palette=\"coolwarm\")\n",
    "plt.xticks(rotation = 90)"
   ]
  },
  {
   "cell_type": "code",
   "execution_count": null,
   "id": "cdfdffb0-8efa-4961-bfd1-24cd267f21cf",
   "metadata": {
    "scrolled": true
   },
   "outputs": [],
   "source": [
    "category_counts = df_as['category'].value_counts()\n",
    "\n",
    "# Select the top 10 categories based on count\n",
    "top_10_categories = category_counts.nlargest(10).index\n",
    "\n",
    "# Filter the DataFrame to include only products from the top 10 categories\n",
    "df_top_10_categories = df_as[df_as['category'].isin(top_10_categories)]\n",
    "\n",
    "# Calculate the average price for each category\n",
    "average_prices = df_top_10_categories.groupby('category')['price'].mean().sort_values(ascending=False).reset_index()\n",
    "\n",
    "sns.barplot(data=average_prices, x='category', y='price', palette=\"coolwarm\")\n",
    "plt.xticks(rotation = 90)\n"
   ]
  },
  {
   "cell_type": "code",
   "execution_count": null,
   "id": "899c6c14-50c8-41df-b948-ab1791e338fc",
   "metadata": {},
   "outputs": [],
   "source": [
    "# Calculate the average price for each category\n",
    "average_prices_all_categories = df_as.groupby('category')['price'].mean().sort_values(ascending=False)\n",
    "\n",
    "# Find the category with the highest average price\n",
    "highest_average_price_category = average_prices_all_categories.idxmax()\n",
    "highest_average_price_category"
   ]
  },
  {
   "cell_type": "code",
   "execution_count": null,
   "id": "c43227c2-3c12-4d94-aa90-5c1567bb35bd",
   "metadata": {},
   "outputs": [],
   "source": [
    "category_counts = df_as['category'].value_counts()\n",
    "\n",
    "# Select the top 10 categories based on count\n",
    "top_10_categories = category_counts.nlargest(10).index\n",
    "\n",
    "# Filter the DataFrame to include only products from the top 10 categories\n",
    "df_top_10_categories = df_as[df_as['category'].isin(top_10_categories)]\n",
    "category_counts = df_as['category'].value_counts(); top_10_categories = category_counts.nlargest(10).index; df_top_10_categories = df_as[df_as['category'].isin(top_10_categories)]; sns.boxplot(data=df_top_10_categories, x='category', y='stars'); plt.title('Distribution of Product Ratings for Top 10 Categories'); plt.xlabel('Category'); plt.ylabel('Rating'); plt.xticks(rotation=45); plt.show(); highest_median_rating_category = df_as.groupby('category')['rating'].median().idxmax(); print(\"The product category with the highest median rating is:\", highest_median_rating_category)\n"
   ]
  },
  {
   "cell_type": "code",
   "execution_count": null,
   "id": "1ed4d8ca-227e-437c-82b5-6770f2feb5ec",
   "metadata": {},
   "outputs": [],
   "source": [
    "#3 correlation between prices and rating \n",
    "correlation_coefficient = df_as['price'].corr(df_as['stars'])\n",
    "correlation_coefficient\n",
    "# negative so the higer the price the less the rating"
   ]
  },
  {
   "cell_type": "code",
   "execution_count": null,
   "id": "ec145712-7fc2-47bf-bcc7-95e29358e3c7",
   "metadata": {},
   "outputs": [],
   "source": [
    "correlation_coefficient, p_value = pearsonr(df_as['price'], df_as['stars'])\n",
    "\n",
    "print(\"Correlation Coefficient:\", correlation_coefficient)\n",
    "print(\"P-value:\", p_value)\n",
    "\n",
    "if p_value < 0.05:\n",
    "    print(\"There is a significant correlation between product price and its rating.\")\n",
    "else:\n",
    "    print(\"There is no significant correlation between product price and its rating.\")\n"
   ]
  },
  {
   "cell_type": "code",
   "execution_count": null,
   "id": "8df0c9a0-1d02-4397-bfff-514741d54971",
   "metadata": {},
   "outputs": [],
   "source": [
    "sns.scatterplot(data=df_as, x='stars', y='price'); plt.title('Relationship between Product Rating and Price'); plt.xlabel('Rating'); plt.ylabel('Price'); plt.show()"
   ]
  },
  {
   "cell_type": "code",
   "execution_count": null,
   "id": "769026f0-3451-49bd-9f42-0fefd47cb847",
   "metadata": {},
   "outputs": [],
   "source": [
    "\n",
    "# Correlation heatmap\n",
    "sns.heatmap(df_as.corr(), annot=True, cmap='coolwarm', fmt=\".2f\", annot_kws={\"size\": 10}); plt.title('Correlation Heatmap'); plt.show()\n",
    "\n",
    "# QQ plot to examine normality of product prices\n",
    "\n"
   ]
  },
  {
   "cell_type": "code",
   "execution_count": null,
   "id": "bd17aad0-16d4-4b1f-9682-a0a8dcac2968",
   "metadata": {},
   "outputs": [],
   "source": [
    "stats.probplot(df_as['price'], dist=\"norm\", plot=plt); plt.title('QQ Plot for Product Prices'); plt.xlabel('Theoretical Quantiles'); plt.ylabel('Ordered Values'); plt.show()"
   ]
  },
  {
   "cell_type": "code",
   "execution_count": null,
   "id": "a78d67b8-73a8-4e5d-a2a6-76da4179436a",
   "metadata": {},
   "outputs": [],
   "source": []
  }
 ],
 "metadata": {
  "kernelspec": {
   "display_name": "Python 3 (ipykernel)",
   "language": "python",
   "name": "python3"
  },
  "language_info": {
   "codemirror_mode": {
    "name": "ipython",
    "version": 3
   },
   "file_extension": ".py",
   "mimetype": "text/x-python",
   "name": "python",
   "nbconvert_exporter": "python",
   "pygments_lexer": "ipython3",
   "version": "3.11.7"
  }
 },
 "nbformat": 4,
 "nbformat_minor": 5
}
